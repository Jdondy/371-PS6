{
 "cells": [
  {
   "cell_type": "markdown",
   "id": "382cd91f-82d0-4563-bac7-c88f8c8f7fcc",
   "metadata": {},
   "source": [
    "# Problem Set 6 Naïve Bayes"
   ]
  },
  {
   "cell_type": "code",
   "execution_count": 42,
   "id": "33b603b5-b32a-4a67-8b9a-db1f325bb55c",
   "metadata": {},
   "outputs": [],
   "source": [
    "#!pip install nltk\n",
    "import pandas as pd\n",
    "import numpy as np\n",
    "import seaborn as sns \n",
    "import nltk\n",
    "from nltk.stem import PorterStemmer"
   ]
  },
  {
   "cell_type": "markdown",
   "id": "a9d2cb1c-355e-4da9-9031-bbb11ec65854",
   "metadata": {},
   "source": [
    "## 1."
   ]
  },
  {
   "cell_type": "markdown",
   "id": "be4f7b19-e5c9-42b8-9a0e-558c49e7c59f",
   "metadata": {},
   "source": [
    "### 1."
   ]
  },
  {
   "cell_type": "code",
   "execution_count": 2,
   "id": "8d845b68-c43e-4f6f-b4c2-314303f04f87",
   "metadata": {},
   "outputs": [
    {
     "data": {
      "text/html": [
       "<div>\n",
       "<style scoped>\n",
       "    .dataframe tbody tr th:only-of-type {\n",
       "        vertical-align: middle;\n",
       "    }\n",
       "\n",
       "    .dataframe tbody tr th {\n",
       "        vertical-align: top;\n",
       "    }\n",
       "\n",
       "    .dataframe thead th {\n",
       "        text-align: right;\n",
       "    }\n",
       "</style>\n",
       "<table border=\"1\" class=\"dataframe\">\n",
       "  <thead>\n",
       "    <tr style=\"text-align: right;\">\n",
       "      <th></th>\n",
       "      <th>spam</th>\n",
       "      <th>message</th>\n",
       "    </tr>\n",
       "  </thead>\n",
       "  <tbody>\n",
       "    <tr>\n",
       "      <th>0</th>\n",
       "      <td>False</td>\n",
       "      <td>Subject: re : 2 . 882 s - &gt; np np  &gt; date : su...</td>\n",
       "    </tr>\n",
       "    <tr>\n",
       "      <th>1</th>\n",
       "      <td>False</td>\n",
       "      <td>Subject: s - &gt; np + np  the discussion of s - ...</td>\n",
       "    </tr>\n",
       "    <tr>\n",
       "      <th>2</th>\n",
       "      <td>False</td>\n",
       "      <td>Subject: 2 . 882 s - &gt; np np  . . . for me it ...</td>\n",
       "    </tr>\n",
       "    <tr>\n",
       "      <th>3</th>\n",
       "      <td>False</td>\n",
       "      <td>Subject: gent conference  \" for the listserv \"...</td>\n",
       "    </tr>\n",
       "    <tr>\n",
       "      <th>4</th>\n",
       "      <td>False</td>\n",
       "      <td>Subject: query : causatives in korean  could a...</td>\n",
       "    </tr>\n",
       "  </tbody>\n",
       "</table>\n",
       "</div>"
      ],
      "text/plain": [
       "    spam                                            message\n",
       "0  False  Subject: re : 2 . 882 s - > np np  > date : su...\n",
       "1  False  Subject: s - > np + np  the discussion of s - ...\n",
       "2  False  Subject: 2 . 882 s - > np np  . . . for me it ...\n",
       "3  False  Subject: gent conference  \" for the listserv \"...\n",
       "4  False  Subject: query : causatives in korean  could a..."
      ]
     },
     "execution_count": 2,
     "metadata": {},
     "output_type": "execute_result"
    }
   ],
   "source": [
    "email = pd.read_csv(\"../data/lingspam-emails.csv.bz2\", sep = '\\t')\n",
    "email = email.drop(\"files\", axis=1)\n",
    "email['spam'] = email['spam'].astype('str') \n",
    "email['message'] = email['message'].astype('str') \n",
    "email.head()"
   ]
  },
  {
   "cell_type": "code",
   "execution_count": 3,
   "id": "5e781bef-77d3-46e5-b3d5-66b2d6aed715",
   "metadata": {},
   "outputs": [
    {
     "data": {
      "text/plain": [
       "(2893, 2)"
      ]
     },
     "execution_count": 3,
     "metadata": {},
     "output_type": "execute_result"
    }
   ],
   "source": [
    "email.shape"
   ]
  },
  {
   "cell_type": "code",
   "execution_count": 4,
   "id": "34a4a104-1aaa-47f9-a94a-41678d452589",
   "metadata": {},
   "outputs": [
    {
     "data": {
      "text/plain": [
       "0"
      ]
     },
     "execution_count": 4,
     "metadata": {},
     "output_type": "execute_result"
    }
   ],
   "source": [
    "sum(email['spam'].isna())"
   ]
  },
  {
   "cell_type": "code",
   "execution_count": 5,
   "id": "b3b53fd2-f775-4599-a5d7-87976451f5ea",
   "metadata": {},
   "outputs": [
    {
     "data": {
      "text/plain": [
       "0"
      ]
     },
     "execution_count": 5,
     "metadata": {},
     "output_type": "execute_result"
    }
   ],
   "source": [
    "sum(email['message'].isna())"
   ]
  },
  {
   "cell_type": "code",
   "execution_count": 6,
   "id": "cbc47cea-8495-4741-bcc1-2cd048875e26",
   "metadata": {},
   "outputs": [
    {
     "data": {
      "text/html": [
       "<div>\n",
       "<style scoped>\n",
       "    .dataframe tbody tr th:only-of-type {\n",
       "        vertical-align: middle;\n",
       "    }\n",
       "\n",
       "    .dataframe tbody tr th {\n",
       "        vertical-align: top;\n",
       "    }\n",
       "\n",
       "    .dataframe thead th {\n",
       "        text-align: right;\n",
       "    }\n",
       "</style>\n",
       "<table border=\"1\" class=\"dataframe\">\n",
       "  <thead>\n",
       "    <tr style=\"text-align: right;\">\n",
       "      <th></th>\n",
       "      <th>spam</th>\n",
       "      <th>message</th>\n",
       "    </tr>\n",
       "  </thead>\n",
       "  <tbody>\n",
       "    <tr>\n",
       "      <th>241</th>\n",
       "      <td>True</td>\n",
       "      <td>Subject: great part-time or summer job !  * * ...</td>\n",
       "    </tr>\n",
       "    <tr>\n",
       "      <th>242</th>\n",
       "      <td>True</td>\n",
       "      <td>Subject: auto insurance rates too high ?  dear...</td>\n",
       "    </tr>\n",
       "    <tr>\n",
       "      <th>243</th>\n",
       "      <td>True</td>\n",
       "      <td>Subject: do want the best and economical hunti...</td>\n",
       "    </tr>\n",
       "    <tr>\n",
       "      <th>244</th>\n",
       "      <td>True</td>\n",
       "      <td>Subject: email 57 million people for $ 99  57 ...</td>\n",
       "    </tr>\n",
       "    <tr>\n",
       "      <th>245</th>\n",
       "      <td>True</td>\n",
       "      <td>Subject: do n't miss these !  attention ! warn...</td>\n",
       "    </tr>\n",
       "    <tr>\n",
       "      <th>246</th>\n",
       "      <td>True</td>\n",
       "      <td>Subject: see amazing world record sex !  atten...</td>\n",
       "    </tr>\n",
       "    <tr>\n",
       "      <th>247</th>\n",
       "      <td>True</td>\n",
       "      <td>Subject: we can help you get a loan ! ! !  sub...</td>\n",
       "    </tr>\n",
       "    <tr>\n",
       "      <th>248</th>\n",
       "      <td>True</td>\n",
       "      <td>Subject: beat the irs &amp; pay-no - more  = = = =...</td>\n",
       "    </tr>\n",
       "    <tr>\n",
       "      <th>249</th>\n",
       "      <td>True</td>\n",
       "      <td>Subject: email 57 million people for $ 99  57 ...</td>\n",
       "    </tr>\n",
       "    <tr>\n",
       "      <th>250</th>\n",
       "      <td>True</td>\n",
       "      <td>Subject:   make $ 3500 per week using your hom...</td>\n",
       "    </tr>\n",
       "    <tr>\n",
       "      <th>251</th>\n",
       "      <td>True</td>\n",
       "      <td>Subject: the best , just got better  the 2 new...</td>\n",
       "    </tr>\n",
       "    <tr>\n",
       "      <th>252</th>\n",
       "      <td>True</td>\n",
       "      <td>Subject: . . . . . use hypnosis to make money ...</td>\n",
       "    </tr>\n",
       "    <tr>\n",
       "      <th>253</th>\n",
       "      <td>True</td>\n",
       "      <td>Subject: the challenge  from the desk of rober...</td>\n",
       "    </tr>\n",
       "    <tr>\n",
       "      <th>254</th>\n",
       "      <td>True</td>\n",
       "      <td>Subject: * special book offer * from americana...</td>\n",
       "    </tr>\n",
       "    <tr>\n",
       "      <th>255</th>\n",
       "      <td>True</td>\n",
       "      <td>Subject: internet - finance / top - earnings /...</td>\n",
       "    </tr>\n",
       "    <tr>\n",
       "      <th>256</th>\n",
       "      <td>True</td>\n",
       "      <td>Subject: the right tools - valuable resources ...</td>\n",
       "    </tr>\n",
       "    <tr>\n",
       "      <th>257</th>\n",
       "      <td>True</td>\n",
       "      <td>Subject: 50 % or better returns .  federally m...</td>\n",
       "    </tr>\n",
       "    <tr>\n",
       "      <th>258</th>\n",
       "      <td>True</td>\n",
       "      <td>Subject: \" life without debt \"  pardon the int...</td>\n",
       "    </tr>\n",
       "    <tr>\n",
       "      <th>259</th>\n",
       "      <td>True</td>\n",
       "      <td>Subject: just released ! 10 million ! ! !  it ...</td>\n",
       "    </tr>\n",
       "    <tr>\n",
       "      <th>260</th>\n",
       "      <td>True</td>\n",
       "      <td>Subject: troubling credit history ? let us hel...</td>\n",
       "    </tr>\n",
       "  </tbody>\n",
       "</table>\n",
       "</div>"
      ],
      "text/plain": [
       "     spam                                            message\n",
       "241  True  Subject: great part-time or summer job !  * * ...\n",
       "242  True  Subject: auto insurance rates too high ?  dear...\n",
       "243  True  Subject: do want the best and economical hunti...\n",
       "244  True  Subject: email 57 million people for $ 99  57 ...\n",
       "245  True  Subject: do n't miss these !  attention ! warn...\n",
       "246  True  Subject: see amazing world record sex !  atten...\n",
       "247  True  Subject: we can help you get a loan ! ! !  sub...\n",
       "248  True  Subject: beat the irs & pay-no - more  = = = =...\n",
       "249  True  Subject: email 57 million people for $ 99  57 ...\n",
       "250  True  Subject:   make $ 3500 per week using your hom...\n",
       "251  True  Subject: the best , just got better  the 2 new...\n",
       "252  True  Subject: . . . . . use hypnosis to make money ...\n",
       "253  True  Subject: the challenge  from the desk of rober...\n",
       "254  True  Subject: * special book offer * from americana...\n",
       "255  True  Subject: internet - finance / top - earnings /...\n",
       "256  True  Subject: the right tools - valuable resources ...\n",
       "257  True  Subject: 50 % or better returns .  federally m...\n",
       "258  True  Subject: \" life without debt \"  pardon the int...\n",
       "259  True  Subject: just released ! 10 million ! ! !  it ...\n",
       "260  True  Subject: troubling credit history ? let us hel..."
      ]
     },
     "execution_count": 6,
     "metadata": {},
     "output_type": "execute_result"
    }
   ],
   "source": [
    "onlySpam = email[(email['spam'] == 'True')]\n",
    "noSpam = email[(email['spam'] == 'False')]\n",
    "onlySpam.head(20)"
   ]
  },
  {
   "cell_type": "markdown",
   "id": "f884d167-7fdf-4004-9aea-051692102edc",
   "metadata": {},
   "source": [
    "### 2."
   ]
  },
  {
   "cell_type": "code",
   "execution_count": 7,
   "id": "5afd3c0c-6f46-44ff-b9f6-6eb8e4ccc720",
   "metadata": {},
   "outputs": [
    {
     "name": "stderr",
     "output_type": "stream",
     "text": [
      "/opt/conda/lib/python3.9/site-packages/sklearn/utils/deprecation.py:87: FutureWarning: Function get_feature_names is deprecated; get_feature_names is deprecated in 1.0 and will be removed in 1.2. Please use get_feature_names_out instead.\n",
      "  warnings.warn(msg, category=FutureWarning)\n"
     ]
    },
    {
     "data": {
      "text/html": [
       "<div>\n",
       "<style scoped>\n",
       "    .dataframe tbody tr th:only-of-type {\n",
       "        vertical-align: middle;\n",
       "    }\n",
       "\n",
       "    .dataframe tbody tr th {\n",
       "        vertical-align: top;\n",
       "    }\n",
       "\n",
       "    .dataframe thead th {\n",
       "        text-align: right;\n",
       "    }\n",
       "</style>\n",
       "<table border=\"1\" class=\"dataframe\">\n",
       "  <thead>\n",
       "    <tr style=\"text-align: right;\">\n",
       "      <th></th>\n",
       "      <th>00</th>\n",
       "      <th>000</th>\n",
       "      <th>0000</th>\n",
       "      <th>00001</th>\n",
       "      <th>00003000140</th>\n",
       "      <th>00003003958</th>\n",
       "      <th>00007</th>\n",
       "      <th>0001</th>\n",
       "      <th>00010</th>\n",
       "      <th>00014</th>\n",
       "      <th>...</th>\n",
       "      <th>zwischen</th>\n",
       "      <th>zwitserlood</th>\n",
       "      <th>zxgah7qabjh</th>\n",
       "      <th>zybatov</th>\n",
       "      <th>zybatow</th>\n",
       "      <th>zygmunt</th>\n",
       "      <th>zyokyoozyu</th>\n",
       "      <th>zytkow</th>\n",
       "      <th>zz214</th>\n",
       "      <th>zzlsa</th>\n",
       "    </tr>\n",
       "  </thead>\n",
       "  <tbody>\n",
       "    <tr>\n",
       "      <th>0</th>\n",
       "      <td>0</td>\n",
       "      <td>0</td>\n",
       "      <td>0</td>\n",
       "      <td>0</td>\n",
       "      <td>0</td>\n",
       "      <td>0</td>\n",
       "      <td>0</td>\n",
       "      <td>0</td>\n",
       "      <td>0</td>\n",
       "      <td>0</td>\n",
       "      <td>...</td>\n",
       "      <td>0</td>\n",
       "      <td>0</td>\n",
       "      <td>0</td>\n",
       "      <td>0</td>\n",
       "      <td>0</td>\n",
       "      <td>0</td>\n",
       "      <td>0</td>\n",
       "      <td>0</td>\n",
       "      <td>0</td>\n",
       "      <td>0</td>\n",
       "    </tr>\n",
       "    <tr>\n",
       "      <th>1</th>\n",
       "      <td>0</td>\n",
       "      <td>0</td>\n",
       "      <td>0</td>\n",
       "      <td>0</td>\n",
       "      <td>0</td>\n",
       "      <td>0</td>\n",
       "      <td>0</td>\n",
       "      <td>0</td>\n",
       "      <td>0</td>\n",
       "      <td>0</td>\n",
       "      <td>...</td>\n",
       "      <td>0</td>\n",
       "      <td>0</td>\n",
       "      <td>0</td>\n",
       "      <td>0</td>\n",
       "      <td>0</td>\n",
       "      <td>0</td>\n",
       "      <td>0</td>\n",
       "      <td>0</td>\n",
       "      <td>0</td>\n",
       "      <td>0</td>\n",
       "    </tr>\n",
       "    <tr>\n",
       "      <th>2</th>\n",
       "      <td>0</td>\n",
       "      <td>0</td>\n",
       "      <td>0</td>\n",
       "      <td>0</td>\n",
       "      <td>0</td>\n",
       "      <td>0</td>\n",
       "      <td>0</td>\n",
       "      <td>0</td>\n",
       "      <td>0</td>\n",
       "      <td>0</td>\n",
       "      <td>...</td>\n",
       "      <td>0</td>\n",
       "      <td>0</td>\n",
       "      <td>0</td>\n",
       "      <td>0</td>\n",
       "      <td>0</td>\n",
       "      <td>0</td>\n",
       "      <td>0</td>\n",
       "      <td>0</td>\n",
       "      <td>0</td>\n",
       "      <td>0</td>\n",
       "    </tr>\n",
       "    <tr>\n",
       "      <th>3</th>\n",
       "      <td>1</td>\n",
       "      <td>1</td>\n",
       "      <td>0</td>\n",
       "      <td>0</td>\n",
       "      <td>0</td>\n",
       "      <td>0</td>\n",
       "      <td>0</td>\n",
       "      <td>0</td>\n",
       "      <td>0</td>\n",
       "      <td>0</td>\n",
       "      <td>...</td>\n",
       "      <td>0</td>\n",
       "      <td>0</td>\n",
       "      <td>0</td>\n",
       "      <td>0</td>\n",
       "      <td>0</td>\n",
       "      <td>0</td>\n",
       "      <td>0</td>\n",
       "      <td>0</td>\n",
       "      <td>0</td>\n",
       "      <td>0</td>\n",
       "    </tr>\n",
       "    <tr>\n",
       "      <th>4</th>\n",
       "      <td>0</td>\n",
       "      <td>0</td>\n",
       "      <td>0</td>\n",
       "      <td>0</td>\n",
       "      <td>0</td>\n",
       "      <td>0</td>\n",
       "      <td>0</td>\n",
       "      <td>0</td>\n",
       "      <td>0</td>\n",
       "      <td>0</td>\n",
       "      <td>...</td>\n",
       "      <td>0</td>\n",
       "      <td>0</td>\n",
       "      <td>0</td>\n",
       "      <td>0</td>\n",
       "      <td>0</td>\n",
       "      <td>0</td>\n",
       "      <td>0</td>\n",
       "      <td>0</td>\n",
       "      <td>0</td>\n",
       "      <td>0</td>\n",
       "    </tr>\n",
       "    <tr>\n",
       "      <th>...</th>\n",
       "      <td>...</td>\n",
       "      <td>...</td>\n",
       "      <td>...</td>\n",
       "      <td>...</td>\n",
       "      <td>...</td>\n",
       "      <td>...</td>\n",
       "      <td>...</td>\n",
       "      <td>...</td>\n",
       "      <td>...</td>\n",
       "      <td>...</td>\n",
       "      <td>...</td>\n",
       "      <td>...</td>\n",
       "      <td>...</td>\n",
       "      <td>...</td>\n",
       "      <td>...</td>\n",
       "      <td>...</td>\n",
       "      <td>...</td>\n",
       "      <td>...</td>\n",
       "      <td>...</td>\n",
       "      <td>...</td>\n",
       "      <td>...</td>\n",
       "    </tr>\n",
       "    <tr>\n",
       "      <th>2888</th>\n",
       "      <td>0</td>\n",
       "      <td>0</td>\n",
       "      <td>0</td>\n",
       "      <td>0</td>\n",
       "      <td>0</td>\n",
       "      <td>0</td>\n",
       "      <td>0</td>\n",
       "      <td>0</td>\n",
       "      <td>0</td>\n",
       "      <td>0</td>\n",
       "      <td>...</td>\n",
       "      <td>0</td>\n",
       "      <td>0</td>\n",
       "      <td>0</td>\n",
       "      <td>0</td>\n",
       "      <td>0</td>\n",
       "      <td>0</td>\n",
       "      <td>0</td>\n",
       "      <td>0</td>\n",
       "      <td>0</td>\n",
       "      <td>0</td>\n",
       "    </tr>\n",
       "    <tr>\n",
       "      <th>2889</th>\n",
       "      <td>0</td>\n",
       "      <td>0</td>\n",
       "      <td>0</td>\n",
       "      <td>0</td>\n",
       "      <td>0</td>\n",
       "      <td>0</td>\n",
       "      <td>0</td>\n",
       "      <td>0</td>\n",
       "      <td>0</td>\n",
       "      <td>0</td>\n",
       "      <td>...</td>\n",
       "      <td>0</td>\n",
       "      <td>0</td>\n",
       "      <td>0</td>\n",
       "      <td>0</td>\n",
       "      <td>0</td>\n",
       "      <td>0</td>\n",
       "      <td>0</td>\n",
       "      <td>0</td>\n",
       "      <td>0</td>\n",
       "      <td>0</td>\n",
       "    </tr>\n",
       "    <tr>\n",
       "      <th>2890</th>\n",
       "      <td>1</td>\n",
       "      <td>0</td>\n",
       "      <td>0</td>\n",
       "      <td>0</td>\n",
       "      <td>0</td>\n",
       "      <td>0</td>\n",
       "      <td>0</td>\n",
       "      <td>0</td>\n",
       "      <td>0</td>\n",
       "      <td>0</td>\n",
       "      <td>...</td>\n",
       "      <td>0</td>\n",
       "      <td>0</td>\n",
       "      <td>0</td>\n",
       "      <td>0</td>\n",
       "      <td>0</td>\n",
       "      <td>0</td>\n",
       "      <td>0</td>\n",
       "      <td>0</td>\n",
       "      <td>0</td>\n",
       "      <td>0</td>\n",
       "    </tr>\n",
       "    <tr>\n",
       "      <th>2891</th>\n",
       "      <td>0</td>\n",
       "      <td>0</td>\n",
       "      <td>0</td>\n",
       "      <td>0</td>\n",
       "      <td>0</td>\n",
       "      <td>0</td>\n",
       "      <td>0</td>\n",
       "      <td>0</td>\n",
       "      <td>0</td>\n",
       "      <td>0</td>\n",
       "      <td>...</td>\n",
       "      <td>0</td>\n",
       "      <td>0</td>\n",
       "      <td>0</td>\n",
       "      <td>0</td>\n",
       "      <td>0</td>\n",
       "      <td>0</td>\n",
       "      <td>0</td>\n",
       "      <td>0</td>\n",
       "      <td>0</td>\n",
       "      <td>0</td>\n",
       "    </tr>\n",
       "    <tr>\n",
       "      <th>2892</th>\n",
       "      <td>0</td>\n",
       "      <td>0</td>\n",
       "      <td>0</td>\n",
       "      <td>0</td>\n",
       "      <td>0</td>\n",
       "      <td>0</td>\n",
       "      <td>0</td>\n",
       "      <td>0</td>\n",
       "      <td>0</td>\n",
       "      <td>0</td>\n",
       "      <td>...</td>\n",
       "      <td>0</td>\n",
       "      <td>0</td>\n",
       "      <td>0</td>\n",
       "      <td>0</td>\n",
       "      <td>0</td>\n",
       "      <td>0</td>\n",
       "      <td>0</td>\n",
       "      <td>0</td>\n",
       "      <td>0</td>\n",
       "      <td>0</td>\n",
       "    </tr>\n",
       "  </tbody>\n",
       "</table>\n",
       "<p>2893 rows × 60925 columns</p>\n",
       "</div>"
      ],
      "text/plain": [
       "      00  000  0000  00001  00003000140  00003003958  00007  0001  00010  \\\n",
       "0      0    0     0      0            0            0      0     0      0   \n",
       "1      0    0     0      0            0            0      0     0      0   \n",
       "2      0    0     0      0            0            0      0     0      0   \n",
       "3      1    1     0      0            0            0      0     0      0   \n",
       "4      0    0     0      0            0            0      0     0      0   \n",
       "...   ..  ...   ...    ...          ...          ...    ...   ...    ...   \n",
       "2888   0    0     0      0            0            0      0     0      0   \n",
       "2889   0    0     0      0            0            0      0     0      0   \n",
       "2890   1    0     0      0            0            0      0     0      0   \n",
       "2891   0    0     0      0            0            0      0     0      0   \n",
       "2892   0    0     0      0            0            0      0     0      0   \n",
       "\n",
       "      00014  ...  zwischen  zwitserlood  zxgah7qabjh  zybatov  zybatow  \\\n",
       "0         0  ...         0            0            0        0        0   \n",
       "1         0  ...         0            0            0        0        0   \n",
       "2         0  ...         0            0            0        0        0   \n",
       "3         0  ...         0            0            0        0        0   \n",
       "4         0  ...         0            0            0        0        0   \n",
       "...     ...  ...       ...          ...          ...      ...      ...   \n",
       "2888      0  ...         0            0            0        0        0   \n",
       "2889      0  ...         0            0            0        0        0   \n",
       "2890      0  ...         0            0            0        0        0   \n",
       "2891      0  ...         0            0            0        0        0   \n",
       "2892      0  ...         0            0            0        0        0   \n",
       "\n",
       "      zygmunt  zyokyoozyu  zytkow  zz214  zzlsa  \n",
       "0           0           0       0      0      0  \n",
       "1           0           0       0      0      0  \n",
       "2           0           0       0      0      0  \n",
       "3           0           0       0      0      0  \n",
       "4           0           0       0      0      0  \n",
       "...       ...         ...     ...    ...    ...  \n",
       "2888        0           0       0      0      0  \n",
       "2889        0           0       0      0      0  \n",
       "2890        0           0       0      0      0  \n",
       "2891        0           0       0      0      0  \n",
       "2892        0           0       0      0      0  \n",
       "\n",
       "[2893 rows x 60925 columns]"
      ]
     },
     "execution_count": 7,
     "metadata": {},
     "output_type": "execute_result"
    }
   ],
   "source": [
    "from sklearn.feature_extraction.text import CountVectorizer\n",
    "vrizer = CountVectorizer(binary=True)\n",
    "# define vectorizer\n",
    "X = vrizer.fit_transform(email.message)\n",
    "# vectorize your data. Note: this creates a sparse matrix,\n",
    "# use .toarray() if you run into trouble\n",
    "vocabulary = vrizer.get_feature_names()\n",
    "# in case you want to see what are the actual words\n",
    "DTM = pd.DataFrame(X.toarray(), columns = vrizer.get_feature_names_out())\n",
    "DTM"
   ]
  },
  {
   "cell_type": "code",
   "execution_count": 8,
   "id": "0879209a-0aac-4084-892c-6409e98986bf",
   "metadata": {},
   "outputs": [
    {
     "data": {
      "text/plain": [
       "60925"
      ]
     },
     "execution_count": 8,
     "metadata": {},
     "output_type": "execute_result"
    }
   ],
   "source": [
    "len(DTM.columns)"
   ]
  },
  {
   "cell_type": "code",
   "execution_count": 9,
   "id": "baf61d9a-1550-4d6c-8c4a-4fa278bfcfa0",
   "metadata": {},
   "outputs": [
    {
     "data": {
      "text/plain": [
       "(2893, 60925)"
      ]
     },
     "execution_count": 9,
     "metadata": {},
     "output_type": "execute_result"
    }
   ],
   "source": [
    "DTM.shape"
   ]
  },
  {
   "cell_type": "markdown",
   "id": "c3f4f5db-1677-4253-93bd-51e132976bfd",
   "metadata": {},
   "source": [
    "There are 2893 emails, and there are 60925 different 'words' in the DTM, however some are just jibberish and/or numbers."
   ]
  },
  {
   "cell_type": "markdown",
   "id": "11af1664-4058-4ecc-b598-ecc5c856be6c",
   "metadata": {},
   "source": [
    "### 3."
   ]
  },
  {
   "cell_type": "code",
   "execution_count": 10,
   "id": "5b52d7b5-6ef9-4fb5-ba21-554d5e48a59a",
   "metadata": {},
   "outputs": [],
   "source": [
    "from sklearn.model_selection import train_test_split\n",
    "X = DTM\n",
    "y = (email.spam)\n",
    "Xt, Xv, yt, yv, = train_test_split(X, y, test_size=0.2)"
   ]
  },
  {
   "cell_type": "markdown",
   "id": "99325455-91c7-4ba7-bed8-912dc6c89ee9",
   "metadata": {},
   "source": [
    "### 4."
   ]
  },
  {
   "cell_type": "markdown",
   "id": "c8cccd3c-1234-45f4-b91d-6a23dd83375c",
   "metadata": {},
   "source": [
    "PrS1 will mean probability that the email is spam, with PrS0 being non-spam. PrW1ViagraS1 Will be what the conditional probabilities look like, in this case, the probability that the word is contained given the email is spam. LogPrW1 will be the log probability that the word is present. lPrS1W will be the log-likelyhood of the email being spam, given vector of words it contains.\n"
   ]
  },
  {
   "cell_type": "markdown",
   "id": "ea14f281-2c6a-4c74-9b04-005c950b826d",
   "metadata": {},
   "source": [
    "## 2. Naive Bayes"
   ]
  },
  {
   "cell_type": "markdown",
   "id": "c0c758c2-1f3b-4f1e-8ab0-d6c7e0000f86",
   "metadata": {},
   "source": [
    "### 1."
   ]
  },
  {
   "cell_type": "code",
   "execution_count": 11,
   "id": "b5a2ecbe-9223-43c3-b009-2c61fd41f8d1",
   "metadata": {},
   "outputs": [
    {
     "name": "stdout",
     "output_type": "stream",
     "text": [
      "nootka\n",
      "nope\n",
      "nor\n",
      "nora\n",
      "norbert\n"
     ]
    }
   ],
   "source": [
    "for i in range(40042,40047):\n",
    "    print(DTM.iloc[:,i].name)"
   ]
  },
  {
   "cell_type": "markdown",
   "id": "019dd348-a42f-49ef-a801-c4536d24ef4c",
   "metadata": {},
   "source": [
    "- a. The rows correspond to emails at index 983-985\n",
    "- b. The columns correspond with the words: nootka, nope, nor, nora, norbert\n",
    "- c. The 1's mean the word is present in the given email\n",
    "- d. The zeros mean the word is not present in the given email"
   ]
  },
  {
   "cell_type": "markdown",
   "id": "243720d9-ac74-4e3e-a10f-65ef107978ad",
   "metadata": {},
   "source": [
    "### 2."
   ]
  },
  {
   "cell_type": "markdown",
   "id": "6c69582e-a8e0-4f9b-a5e0-cad871b14b22",
   "metadata": {},
   "source": [
    "0.83"
   ]
  },
  {
   "cell_type": "markdown",
   "id": "da0a1590-aac8-4278-99a5-de5cdc89a374",
   "metadata": {},
   "source": [
    "### 3."
   ]
  },
  {
   "cell_type": "code",
   "execution_count": 12,
   "id": "e25bbdfc-a6db-4242-a0f5-5c6a7b096075",
   "metadata": {},
   "outputs": [
    {
     "name": "stdout",
     "output_type": "stream",
     "text": [
      "Log S1: -1.796090355165895 \n",
      " Log S0: -0.1814576258546907\n"
     ]
    }
   ],
   "source": [
    "yyt = pd.DataFrame(data=yt) \n",
    "yytS = yyt[(yyt['spam'] == 'True')]\n",
    "yyt['spam'] = np.where(yyt['spam'] == 'True', 1 ,0)\n",
    "PrS1f = yyt.mean()\n",
    "PrS1 = PrS1f[0]\n",
    "PrS0 = 1-PrS1\n",
    "LogPrS1 = np.log(PrS1)\n",
    "LogPrS0 = np.log(PrS0)\n",
    "print('Log S1:', LogPrS1, '\\n', 'Log S0:', LogPrS0)"
   ]
  },
  {
   "cell_type": "markdown",
   "id": "297c89d0-de1c-42a8-a2b7-140d2be59dbf",
   "metadata": {},
   "source": [
    "### 4."
   ]
  },
  {
   "cell_type": "code",
   "execution_count": 13,
   "id": "4e75b770-5bf6-481d-861a-7c36eaf58234",
   "metadata": {},
   "outputs": [
    {
     "data": {
      "text/plain": [
       "array([0, 0, 1, ..., 0, 0, 0])"
      ]
     },
     "execution_count": 13,
     "metadata": {},
     "output_type": "execute_result"
    }
   ],
   "source": [
    "yyt['spam'].values"
   ]
  },
  {
   "cell_type": "code",
   "execution_count": 14,
   "id": "cf5b4323-5033-4f26-aa9e-cd4d19cebd9b",
   "metadata": {},
   "outputs": [],
   "source": [
    "b1 = Xt[yyt['spam'].values==1]"
   ]
  },
  {
   "cell_type": "code",
   "execution_count": 15,
   "id": "2b39af41-2935-4032-8bd4-096a1fdee84f",
   "metadata": {},
   "outputs": [],
   "source": [
    "spamOnly = b1[b1['spam'] == 1]\n",
    "noSpamOnly = b1[b1['spam'] == 0]"
   ]
  },
  {
   "cell_type": "code",
   "execution_count": 16,
   "id": "54eb1dd3-86d7-4f03-a88d-d9511db62fe9",
   "metadata": {},
   "outputs": [
    {
     "name": "stderr",
     "output_type": "stream",
     "text": [
      "/tmp/ipykernel_361/2993333793.py:3: RuntimeWarning: divide by zero encountered in log\n",
      "  SpamW1Vec.append(np.log(spamOnly[column].mean()))\n",
      "/tmp/ipykernel_361/2993333793.py:6: RuntimeWarning: divide by zero encountered in log\n",
      "  NoSpamW1Vec.append(np.log(noSpamOnly[column].mean()))\n"
     ]
    }
   ],
   "source": [
    "SpamW1Vec = []\n",
    "for column in spamOnly:\n",
    "    SpamW1Vec.append(np.log(spamOnly[column].mean()))\n",
    "NoSpamW1Vec = []\n",
    "for column in noSpamOnly:\n",
    "    NoSpamW1Vec.append(np.log(noSpamOnly[column].mean()))"
   ]
  },
  {
   "cell_type": "markdown",
   "id": "71508bee-ef25-4a99-8d98-6e61ebe1f18a",
   "metadata": {},
   "source": [
    "### 5.\n",
    "The length of the vectors should be the same as how many words there are in their respective DTM's, as it is getting the average number of 1's from each column."
   ]
  },
  {
   "cell_type": "markdown",
   "id": "983f8292-4ff0-46c0-a4b0-f004cacf366a",
   "metadata": {},
   "source": [
    "### 6."
   ]
  },
  {
   "cell_type": "code",
   "execution_count": 17,
   "id": "4d1f5739-eb0b-489a-aa99-df564ddb1093",
   "metadata": {},
   "outputs": [
    {
     "data": {
      "text/plain": [
       "(579, 60925)"
      ]
     },
     "execution_count": 17,
     "metadata": {},
     "output_type": "execute_result"
    }
   ],
   "source": [
    "Xv.shape"
   ]
  },
  {
   "cell_type": "code",
   "execution_count": 18,
   "id": "c282db4e-87df-4439-946e-a921b72e2759",
   "metadata": {},
   "outputs": [],
   "source": [
    "lS1W1 = Xv @(np.array(SpamW1Vec)) + LogPrS1\n",
    "lS0W1 = Xv @(np.array(NoSpamW1Vec)) + LogPrS0"
   ]
  },
  {
   "cell_type": "markdown",
   "id": "4e2607ab-1ae0-47e7-9fe1-4a37811538e0",
   "metadata": {
    "tags": []
   },
   "source": [
    "### 7.\n",
    "You have to compute the log-likelyhood for each word in the DTM, and then for spam=1 and spam=0. This comes out to around 68,000 log-likelyhoods"
   ]
  },
  {
   "cell_type": "markdown",
   "id": "a67ccc28-b9cc-4aab-8219-448b7ec8e86e",
   "metadata": {},
   "source": [
    "### 8."
   ]
  },
  {
   "cell_type": "code",
   "execution_count": 19,
   "id": "34201787-985c-4f3f-a89e-15de34667e75",
   "metadata": {},
   "outputs": [],
   "source": [
    "prediction = lS1W1 > lS0W1"
   ]
  },
  {
   "cell_type": "code",
   "execution_count": 20,
   "id": "555db305-304a-4ca4-8202-a65724966627",
   "metadata": {},
   "outputs": [
    {
     "data": {
      "text/plain": [
       "579"
      ]
     },
     "execution_count": 20,
     "metadata": {},
     "output_type": "execute_result"
    }
   ],
   "source": [
    "len(prediction)"
   ]
  },
  {
   "cell_type": "code",
   "execution_count": 21,
   "id": "cef51cb8-fa4d-4994-ae6f-f6e594413cc5",
   "metadata": {},
   "outputs": [
    {
     "data": {
      "text/plain": [
       "776     False\n",
       "792     False\n",
       "2806    False\n",
       "1294    False\n",
       "1908    False\n",
       "        ...  \n",
       "47      False\n",
       "1911    False\n",
       "506     False\n",
       "2641    False\n",
       "2234    False\n",
       "Length: 579, dtype: bool"
      ]
     },
     "execution_count": 21,
     "metadata": {},
     "output_type": "execute_result"
    }
   ],
   "source": [
    "prediction"
   ]
  },
  {
   "cell_type": "markdown",
   "id": "f02bd02f-93e2-48d5-8b48-ba55631ce97e",
   "metadata": {},
   "source": [
    "### 9."
   ]
  },
  {
   "cell_type": "code",
   "execution_count": 22,
   "id": "85385b7c-99a9-487e-8ba1-ec0920569a8d",
   "metadata": {
    "tags": []
   },
   "outputs": [
    {
     "name": "stdout",
     "output_type": "stream",
     "text": [
      "[[  0  97]\n",
      " [  0 482]]\n",
      "Accuracy: 0.8324697754749568\n"
     ]
    }
   ],
   "source": [
    "from sklearn.metrics import confusion_matrix\n",
    "from sklearn.metrics import accuracy_score\n",
    "from sklearn.metrics import recall_score\n",
    "from sklearn.metrics import precision_score\n",
    "nyv = yv.to_frame()\n",
    "nyv['spam'] = np.where(nyv['spam'] == 'True', 1 ,0)\n",
    "predictions = prediction.to_frame()\n",
    "predictions[0] = np.where(predictions[0] == 'True', 1 ,0)\n",
    "cm = confusion_matrix(nyv,predictions, labels=[1,0])\n",
    "print(cm)\n",
    "print(\"Accuracy:\",accuracy_score(nyv, predictions))\n"
   ]
  },
  {
   "cell_type": "markdown",
   "id": "4b114fe5-ffb6-4653-8ed2-affee1b3ea26",
   "metadata": {},
   "source": [
    "### 10."
   ]
  },
  {
   "cell_type": "markdown",
   "id": "21dedfbb-cfd0-492d-a71b-4d61a2fd3eb2",
   "metadata": {},
   "source": [
    "This model isn't the best because we can't base our prediction on a single observation\n",
    "of a single word, while ignoring everything else in the message, and claim we are 100%\n",
    "certain in our conclusion. Replacing likelihood by log-likelihood only shifts\n",
    "the problem from zero-likelihood to minus-infinity-log-likelihood and does not offer\n",
    "any solution."
   ]
  },
  {
   "cell_type": "markdown",
   "id": "82845334-30f1-410f-8553-6b5f1c6c0071",
   "metadata": {
    "tags": []
   },
   "source": [
    "## 3. Add smoothing\n",
    "### 1."
   ]
  },
  {
   "cell_type": "code",
   "execution_count": 33,
   "id": "29bd1044-02f1-4f15-858e-3606a7ebff49",
   "metadata": {
    "tags": []
   },
   "outputs": [],
   "source": [
    "def fittingS1(a):\n",
    "    yyt = pd.DataFrame(data=yt) \n",
    "    yytS = yyt[(yyt['spam'] == 'True')]\n",
    "    yyt['spam'] = np.where(yyt['spam'] == 'True', 1 ,0)\n",
    "    PrS1f = (yyt.sum()+a)/(len(yyt)+2*a)\n",
    "    PrS1 = PrS1f[0]\n",
    "    PrS0 = 1-PrS1\n",
    "    LogPrS1 = np.log(PrS1)\n",
    "    LogPrS0 = np.log(PrS0)\n",
    "    b1 = Xt[yyt['spam'].values==1]\n",
    "    spamOnly = b1[b1['spam'] == 1]\n",
    "    SpamW1Vec = []\n",
    "    for column in spamOnly:\n",
    "        SpamW1Vec.append(np.log((spamOnly[column].sum()+a)/(len(spamOnly[column])+2*a)))\n",
    "    lS1W1 = Xv @(np.array(SpamW1Vec)) + LogPrS1\n",
    "    return lS1W1\n",
    "\n",
    "def fittingS0(a):\n",
    "    yyt = pd.DataFrame(data=yt) \n",
    "    yytS = yyt[(yyt['spam'] == 'True')]\n",
    "    yyt['spam'] = np.where(yyt['spam'] == 'True', 1 ,0)\n",
    "    PrS1f = (yyt.sum()+a)/(len(yyt)+2*a)\n",
    "    PrS1 = PrS1f[0]\n",
    "    PrS0 = 1-PrS1\n",
    "    LogPrS1 = np.log(PrS1)\n",
    "    LogPrS0 = np.log(PrS0)\n",
    "    b1 = Xt[yyt['spam'].values==1]\n",
    "    noSpamOnly = b1[b1['spam'] == 0]\n",
    "    NoSpamW1Vec = []\n",
    "    for column in noSpamOnly:\n",
    "        NoSpamW1Vec.append(np.log((noSpamOnly[column].sum()+a)/(len(noSpamOnly[column])+2*a)))\n",
    "    lS0W1 = Xv @(np.array(NoSpamW1Vec)) + LogPrS0\n",
    "    return lS0W1\n",
    "\n",
    "def validation(c,d):\n",
    "    prediction = c > d\n",
    "    nyv = np.where(yv == 'True', 1 ,0)\n",
    "    prediction = np.where(prediction == True, 1 ,0)\n",
    "    cm = confusion_matrix(nyv,prediction, labels=(1,0))\n",
    "    print(cm)\n",
    "    print(\"Accuracy:\",accuracy_score(nyv, prediction))\n",
    "    return(accuracy_score(nyv, prediction))"
   ]
  },
  {
   "cell_type": "markdown",
   "id": "7b9b07d7-0a02-49d4-a9a5-8b69b31c47cc",
   "metadata": {},
   "source": [
    "### 2."
   ]
  },
  {
   "cell_type": "code",
   "execution_count": 24,
   "id": "bce38b32-531b-4303-a395-5d9d22d9b008",
   "metadata": {},
   "outputs": [],
   "source": [
    "oneS1 = fittingS1(0.2)\n",
    "oneS0 = fittingS0(0.2)"
   ]
  },
  {
   "cell_type": "code",
   "execution_count": 25,
   "id": "c180cbb8-b4cd-4223-967c-80b219da44da",
   "metadata": {},
   "outputs": [
    {
     "name": "stdout",
     "output_type": "stream",
     "text": [
      "776    -2257.370342\n",
      "792    -1125.554079\n",
      "2806    -386.466786\n",
      "1294   -1469.892763\n",
      "1908    -783.472614\n",
      "           ...     \n",
      "47      -218.886044\n",
      "1911    -314.297474\n",
      "506    -3720.517660\n",
      "2641    -147.318251\n",
      "2234   -2530.866393\n",
      "Length: 579, dtype: float64 776    -3111.302716\n",
      "792    -1430.542325\n",
      "2806    -518.490618\n",
      "1294   -2033.424843\n",
      "1908    -996.087865\n",
      "           ...     \n",
      "47      -294.637078\n",
      "1911    -428.315766\n",
      "506    -5274.175855\n",
      "2641    -188.046978\n",
      "2234   -3378.060459\n",
      "Length: 579, dtype: float64\n"
     ]
    }
   ],
   "source": [
    "print(oneS1,oneS0)"
   ]
  },
  {
   "cell_type": "markdown",
   "id": "e81a560b-7baa-4042-a834-c5041a5563ca",
   "metadata": {},
   "source": [
    "### 3."
   ]
  },
  {
   "cell_type": "code",
   "execution_count": 34,
   "id": "6fb818a7-d6a5-40fc-b707-19ec5c6e1f86",
   "metadata": {},
   "outputs": [
    {
     "name": "stdout",
     "output_type": "stream",
     "text": [
      "[[ 94   3]\n",
      " [482   0]]\n",
      "Accuracy: 0.16234887737478412\n"
     ]
    },
    {
     "data": {
      "text/plain": [
       "0.16234887737478412"
      ]
     },
     "execution_count": 34,
     "metadata": {},
     "output_type": "execute_result"
    }
   ],
   "source": [
    "# For the 0.2 smoothing used above\n",
    "validation(oneS1,oneS0)"
   ]
  },
  {
   "cell_type": "code",
   "execution_count": 27,
   "id": "8168f027-6e01-4e26-bb58-5a856ad5e94a",
   "metadata": {},
   "outputs": [],
   "source": [
    "twoS1 = fittingS1(0.01)\n",
    "twoS0 = fittingS0(0.01)"
   ]
  },
  {
   "cell_type": "code",
   "execution_count": 28,
   "id": "7fafc2e3-98af-4f5e-9ab5-e7c4c3521f93",
   "metadata": {},
   "outputs": [
    {
     "name": "stdout",
     "output_type": "stream",
     "text": [
      "[[ 34  63]\n",
      " [463  19]]\n",
      "Accuracy: 0.09153713298791019\n"
     ]
    }
   ],
   "source": [
    "validation(twoS1,twoS0)"
   ]
  },
  {
   "cell_type": "code",
   "execution_count": 29,
   "id": "fd9b5dd4-db65-4813-aaae-5d5454cca7e9",
   "metadata": {},
   "outputs": [
    {
     "name": "stdout",
     "output_type": "stream",
     "text": [
      "[[  5  92]\n",
      " [ 30 452]]\n",
      "Accuracy: 0.7892918825561313\n"
     ]
    }
   ],
   "source": [
    "threeS1 = fittingS1(0.000001)\n",
    "threeS0 = fittingS0(0.000001)\n",
    "validation(threeS1,threeS0)"
   ]
  },
  {
   "cell_type": "markdown",
   "id": "2eb8b086-b420-4975-83c0-78fdd49f9e30",
   "metadata": {},
   "source": [
    "### 4."
   ]
  },
  {
   "cell_type": "code",
   "execution_count": 36,
   "id": "28427b9b-a96a-4cad-9693-4352416bf6b1",
   "metadata": {},
   "outputs": [
    {
     "name": "stdout",
     "output_type": "stream",
     "text": [
      "1e-07 \n",
      "\n",
      "[[  5  92]\n",
      " [ 19 463]]\n",
      "Accuracy: 0.8082901554404145\n",
      "1e-06 \n",
      "\n",
      "[[  5  92]\n",
      " [ 30 452]]\n",
      "Accuracy: 0.7892918825561313\n",
      "1e-05 \n",
      "\n",
      "[[  5  92]\n",
      " [ 45 437]]\n",
      "Accuracy: 0.7633851468048359\n",
      "0.0001 \n",
      "\n",
      "[[  5  92]\n",
      " [ 97 385]]\n",
      "Accuracy: 0.6735751295336787\n",
      "0.001 \n",
      "\n",
      "[[ 13  84]\n",
      " [262 220]]\n",
      "Accuracy: 0.40241796200345425\n",
      "0.01 \n",
      "\n",
      "[[ 34  63]\n",
      " [463  19]]\n",
      "Accuracy: 0.09153713298791019\n",
      "0.1 \n",
      "\n",
      "[[ 84  13]\n",
      " [482   0]]\n",
      "Accuracy: 0.14507772020725387\n"
     ]
    }
   ],
   "source": [
    "lst = [0.0000001,0.000001,0.00001,0.0001,0.001,0.01,0.1]\n",
    "graph = [];\n",
    "for i in lst:\n",
    "    e = fittingS1(i)\n",
    "    m = fittingS0(i)\n",
    "    print(i,'\\n')\n",
    "    graph.append(validation(e,m))"
   ]
  },
  {
   "cell_type": "markdown",
   "id": "7ab1825c-b1a2-4eef-8262-4c72607425f9",
   "metadata": {},
   "source": [
    "### 5."
   ]
  },
  {
   "cell_type": "code",
   "execution_count": 48,
   "id": "baecc6e9-c030-4b09-be19-4848e4b31148",
   "metadata": {},
   "outputs": [
    {
     "data": {
      "image/png": "[encoded data removed]",
      "text/plain": [
       "<Figure size 432x288 with 1 Axes>"
      ]
     },
     "metadata": {
      "needs_background": "light"
     },
     "output_type": "display_data"
    }
   ],
   "source": [
    "sns.scatterplot(x = lst, y = graph)\n",
    "plt.autoscale()\n",
    "plt.show()"
   ]
  },
  {
   "cell_type": "markdown",
   "id": "354e79d0-f765-4004-b91a-bc0ab4706281",
   "metadata": {},
   "source": [
    "## 4. Interpretation"
   ]
  },
  {
   "cell_type": "markdown",
   "id": "486cfd8a-5196-42e2-90d0-f25504680bff",
   "metadata": {},
   "source": [
    "### 1."
   ]
  },
  {
   "cell_type": "code",
   "execution_count": 60,
   "id": "ed55461f-a7ef-4f6a-8237-aa992f25ea60",
   "metadata": {},
   "outputs": [
    {
     "name": "stderr",
     "output_type": "stream",
     "text": [
      "/tmp/ipykernel_361/1303396079.py:1: RuntimeWarning: invalid value encountered in double_scalars\n",
      "  best = [a - b for a, b in zip(SpamW1Vec, NoSpamW1Vec)]\n"
     ]
    },
    {
     "data": {
      "text/plain": [
       "1579"
      ]
     },
     "execution_count": 60,
     "metadata": {},
     "output_type": "execute_result"
    }
   ],
   "source": [
    "best = [a - b for a, b in zip(SpamW1Vec, NoSpamW1Vec)]\n",
    "best = np.asarray(best)\n",
    "best = best[best > -100000]\n",
    "best = best[best < 100000]\n",
    "np.argmax(best)"
   ]
  },
  {
   "cell_type": "code",
   "execution_count": 67,
   "id": "7d5e6297-95d0-4615-ac8c-2ebe4850daed",
   "metadata": {},
   "outputs": [
    {
     "name": "stdout",
     "output_type": "stream",
     "text": [
      "The most likely spam word is: 200f\n"
     ]
    }
   ],
   "source": [
    "print(\"The most likely spam word is:\",Xt.iloc[:,1579].name)"
   ]
  },
  {
   "cell_type": "markdown",
   "id": "a2ef6b34-6cfc-485a-b822-a291f8c98b84",
   "metadata": {},
   "source": [
    "### 2."
   ]
  },
  {
   "cell_type": "code",
   "execution_count": 95,
   "id": "e8d3a9be-525b-4183-a340-730cc97c236a",
   "metadata": {},
   "outputs": [
    {
     "data": {
      "text/plain": [
       "array([ 408,  692, 1641, 1546, 2101,  720, 1123,  396, 1140,   28])"
      ]
     },
     "execution_count": 95,
     "metadata": {},
     "output_type": "execute_result"
    }
   ],
   "source": [
    "small"
   ]
  },
  {
   "cell_type": "code",
   "execution_count": 94,
   "id": "1ad1bcc7-5246-40be-befd-f30504f71388",
   "metadata": {},
   "outputs": [
    {
     "name": "stdout",
     "output_type": "stream",
     "text": [
      "The 10 most likely spam words are: 200f\n",
      "The 10 most likely spam words are: 2661\n",
      "The 10 most likely spam words are: 161d\n",
      "The 10 most likely spam words are: 12420\n",
      "The 10 most likely spam words are: 0761\n",
      "The 10 most likely spam words are: 192832\n",
      "The 10 most likely spam words are: 0733\n",
      "The 10 most likely spam words are: 0998\n",
      "The 10 most likely spam words are: 25\n",
      "The 10 most likely spam words are: 1700\n",
      "The 10 least likely spam words are: 0930\n",
      "The 10 least likely spam words are: 1197\n",
      "The 10 least likely spam words are: 20742\n",
      "The 10 least likely spam words are: 1sb\n",
      "The 10 least likely spam words are: 273275\n",
      "The 10 least likely spam words are: 1205\n",
      "The 10 least likely spam words are: 167\n",
      "The 10 least likely spam words are: 0897\n",
      "The 10 least likely spam words are: 1693\n",
      "The 10 least likely spam words are: 0030\n"
     ]
    }
   ],
   "source": [
    "large = np.argsort(-best)[:10]\n",
    "small = np.argsort(-best)[-10:]\n",
    "for i in large:\n",
    "    print(\"The 10 most likely spam words are:\",Xt.iloc[:,i].name)\n",
    "for i in small:\n",
    "    print(\"The 10 least likely spam words are:\",Xt.iloc[:,i].name)"
   ]
  },
  {
   "cell_type": "markdown",
   "id": "b2c3ef53-ff70-48d9-ac51-c0a64ee002bf",
   "metadata": {},
   "source": [
    "Spent about 15 hours on this PS"
   ]
  },
  {
   "cell_type": "markdown",
   "id": "f7c6ed07-da62-431c-b9f4-63b4ec34509c",
   "metadata": {
    "tags": []
   },
   "source": [
    "## 5."
   ]
  },
  {
   "cell_type": "code",
   "execution_count": null,
   "id": "312a16e7-5f41-4b65-8dad-9437c7dd835a",
   "metadata": {},
   "outputs": [],
   "source": []
  },
  {
   "cell_type": "code",
   "execution_count": null,
   "id": "5232ddce-f6e6-466b-b710-9da83f62f111",
   "metadata": {},
   "outputs": [],
   "source": []
  },
  {
   "cell_type": "code",
   "execution_count": null,
   "id": "8f8a81a8-1db2-4535-9a3a-af5fb63f76f5",
   "metadata": {},
   "outputs": [],
   "source": []
  },
  {
   "cell_type": "code",
   "execution_count": null,
   "id": "3e4e1ee0-7c35-411f-9e20-1510800b2d38",
   "metadata": {},
   "outputs": [],
   "source": []
  },
  {
   "cell_type": "code",
   "execution_count": null,
   "id": "59d81be2-5271-4e29-a8c0-6c7f428eff9a",
   "metadata": {},
   "outputs": [],
   "source": []
  }
 ],
 "metadata": {
  "kernelspec": {
   "display_name": "Python 3 (ipykernel)",
   "language": "python",
   "name": "python3"
  },
  "language_info": {
   "codemirror_mode": {
    "name": "ipython",
    "version": 3
   },
   "file_extension": ".py",
   "mimetype": "text/x-python",
   "name": "python",
   "nbconvert_exporter": "python",
   "pygments_lexer": "ipython3",
   "version": "3.9.7"
  }
 },
 "nbformat": 4,
 "nbformat_minor": 5
}
